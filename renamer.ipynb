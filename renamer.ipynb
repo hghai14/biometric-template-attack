{
 "cells": [
  {
   "cell_type": "code",
   "execution_count": 24,
   "metadata": {},
   "outputs": [],
   "source": [
    "import os"
   ]
  },
  {
   "cell_type": "code",
   "execution_count": 25,
   "metadata": {},
   "outputs": [],
   "source": [
    "rename_folder_images = '/home/hp/Desktop/sem10/mtp-2/warped_dataset/0_0_0/test/images'\n",
    "rename_folder_embeddings = '/home/hp/Desktop/sem10/mtp-2/warped_dataset/0_0_0/test/embeddings'"
   ]
  },
  {
   "cell_type": "code",
   "execution_count": 26,
   "metadata": {},
   "outputs": [
    {
     "name": "stdout",
     "output_type": "stream",
     "text": [
      "902 902\n",
      "0.png 0.npy\n"
     ]
    }
   ],
   "source": [
    "images = os.listdir(rename_folder_images)\n",
    "embeddings = os.listdir(rename_folder_embeddings)\n",
    "\n",
    "images.sort()\n",
    "embeddings.sort()\n",
    "print(len(images), len(embeddings))\n",
    "print(images[0], embeddings[0])"
   ]
  },
  {
   "cell_type": "code",
   "execution_count": 27,
   "metadata": {},
   "outputs": [],
   "source": [
    "for i in range(len(images)):\n",
    "    os.rename(rename_folder_images + '/' + images[i], rename_folder_images + \"/{:05d}.png\".format(i))\n",
    "    os.rename(rename_folder_embeddings + '/' + embeddings[i], rename_folder_embeddings + \"/{:05d}.npy\".format(i))"
   ]
  }
 ],
 "metadata": {
  "kernelspec": {
   "display_name": "base",
   "language": "python",
   "name": "python3"
  },
  "language_info": {
   "codemirror_mode": {
    "name": "ipython",
    "version": 3
   },
   "file_extension": ".py",
   "mimetype": "text/x-python",
   "name": "python",
   "nbconvert_exporter": "python",
   "pygments_lexer": "ipython3",
   "version": "3.8.8"
  }
 },
 "nbformat": 4,
 "nbformat_minor": 2
}
