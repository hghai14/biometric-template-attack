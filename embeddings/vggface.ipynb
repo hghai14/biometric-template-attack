{
 "cells": [
  {
   "cell_type": "code",
   "execution_count": null,
   "metadata": {},
   "outputs": [],
   "source": [
    "# !pip install git+https://github.com/rcmalli/keras-vggface.git"
   ]
  },
  {
   "cell_type": "code",
   "execution_count": null,
   "metadata": {},
   "outputs": [],
   "source": [
    "from keras.engine import  Model\n",
    "from keras_vggface.vggface import VGGFace\n",
    "import numpy as np\n",
    "import cv2\n",
    "from keras_vggface.utils import preprocess_input\n",
    "from sklearn import random_projection\n",
    "import tensorflow as tf\n"
   ]
  },
  {
   "cell_type": "code",
   "execution_count": null,
   "metadata": {},
   "outputs": [],
   "source": [
    "vgg_features = VGGFace(input_shape=(224, 224, 3), weights=None) # pooling: None, avg or max\n",
    "vgg_features.load_weights('rcmalli_vggface_tf_vgg16.h5')\n",
    "\n",
    "# take model output till penultimate layer\n",
    "out = vgg_features.get_layer('fc7').output\n",
    "model = Model(vgg_features.input, out)\n",
    "\n",
    "def extract_features(img_path, model):\n",
    "    img = cv2.imread(img_path)\n",
    "    img = cv2.resize(img, (224, 224))\n",
    "    img = cv2.cvtColor(img, cv2.COLOR_BGR2RGB)\n",
    "    features = model.predict(np.expand_dims(img, axis=0))\n",
    "    features = features.reshape(1, -1)\n",
    "    return features\n"
   ]
  },
  {
   "cell_type": "code",
   "execution_count": null,
   "metadata": {},
   "outputs": [],
   "source": [
    "#example\n",
    "img = \"1-03.jpg\"\n",
    "vgg16_features = extract_features(img, model)"
   ]
  }
 ],
 "metadata": {
  "kernelspec": {
   "display_name": "Python 3",
   "language": "python",
   "name": "python3"
  },
  "language_info": {
   "name": "python",
   "version": "3.10.12"
  }
 },
 "nbformat": 4,
 "nbformat_minor": 2
}
